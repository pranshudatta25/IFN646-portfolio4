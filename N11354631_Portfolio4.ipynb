{
  "nbformat": 4,
  "nbformat_minor": 0,
  "metadata": {
    "colab": {
      "provenance": [],
      "authorship_tag": "ABX9TyN6csxTvZuU5SFbEPBvWRBJ",
      "include_colab_link": true
    },
    "kernelspec": {
      "name": "python3",
      "display_name": "Python 3"
    },
    "language_info": {
      "name": "python"
    }
  },
  "cells": [
    {
      "cell_type": "markdown",
      "metadata": {
        "id": "view-in-github",
        "colab_type": "text"
      },
      "source": [
        "<a href=\"https://colab.research.google.com/github/pranshudatta25/IFN646-portfolio4/blob/main/N11354631_Portfolio4.ipynb\" target=\"_parent\"><img src=\"https://colab.research.google.com/assets/colab-badge.svg\" alt=\"Open In Colab\"/></a>"
      ]
    },
    {
      "cell_type": "code",
      "execution_count": null,
      "metadata": {
        "colab": {
          "base_uri": "https://localhost:8080/"
        },
        "id": "VvVDrRQX-Lmx",
        "outputId": "969a6b08-6811-4448-d9a7-641424ad77cb"
      },
      "outputs": [
        {
          "output_type": "stream",
          "name": "stdout",
          "text": [
            "Collecting calour==2019.5.1\n",
            "  Downloading calour-2019.5.1-py3-none-any.whl (120 kB)\n",
            "\u001b[?25l     \u001b[90m━━━━━━━━━━━━━━━━━━━━━━━━━━━━━━━━━━━━━━━━\u001b[0m \u001b[32m0.0/120.4 kB\u001b[0m \u001b[31m?\u001b[0m eta \u001b[36m-:--:--\u001b[0m\r\u001b[2K     \u001b[91m━━━━━━━━━━━━━━━━━━━━\u001b[0m\u001b[90m╺\u001b[0m\u001b[90m━━━━━━━━━━━━━━━━━━━\u001b[0m \u001b[32m61.4/120.4 kB\u001b[0m \u001b[31m1.8 MB/s\u001b[0m eta \u001b[36m0:00:01\u001b[0m\r\u001b[2K     \u001b[90m━━━━━━━━━━━━━━━━━━━━━━━━━━━━━━━━━━━━━━━━\u001b[0m \u001b[32m120.4/120.4 kB\u001b[0m \u001b[31m2.4 MB/s\u001b[0m eta \u001b[36m0:00:00\u001b[0m\n",
            "\u001b[?25hRequirement already satisfied: numpy in /usr/local/lib/python3.10/dist-packages (from calour==2019.5.1) (1.23.5)\n",
            "Requirement already satisfied: scipy in /usr/local/lib/python3.10/dist-packages (from calour==2019.5.1) (1.11.3)\n",
            "Requirement already satisfied: pandas in /usr/local/lib/python3.10/dist-packages (from calour==2019.5.1) (1.5.3)\n",
            "Requirement already satisfied: matplotlib>=2.0 in /usr/local/lib/python3.10/dist-packages (from calour==2019.5.1) (3.7.1)\n",
            "Requirement already satisfied: scikit-learn>=0.19.1 in /usr/local/lib/python3.10/dist-packages (from calour==2019.5.1) (1.2.2)\n",
            "Collecting biom-format (from calour==2019.5.1)\n",
            "  Downloading biom_format-2.1.15-cp310-cp310-manylinux_2_5_x86_64.manylinux1_x86_64.manylinux_2_17_x86_64.manylinux2014_x86_64.whl (12.0 MB)\n",
            "\u001b[2K     \u001b[90m━━━━━━━━━━━━━━━━━━━━━━━━━━━━━━━━━━━━━━━━\u001b[0m \u001b[32m12.0/12.0 MB\u001b[0m \u001b[31m12.7 MB/s\u001b[0m eta \u001b[36m0:00:00\u001b[0m\n",
            "\u001b[?25hRequirement already satisfied: statsmodels in /usr/local/lib/python3.10/dist-packages (from calour==2019.5.1) (0.14.0)\n",
            "Collecting docrep (from calour==2019.5.1)\n",
            "  Downloading docrep-0.3.2.tar.gz (33 kB)\n",
            "  Preparing metadata (setup.py) ... \u001b[?25l\u001b[?25hdone\n",
            "Requirement already satisfied: contourpy>=1.0.1 in /usr/local/lib/python3.10/dist-packages (from matplotlib>=2.0->calour==2019.5.1) (1.1.1)\n",
            "Requirement already satisfied: cycler>=0.10 in /usr/local/lib/python3.10/dist-packages (from matplotlib>=2.0->calour==2019.5.1) (0.12.1)\n",
            "Requirement already satisfied: fonttools>=4.22.0 in /usr/local/lib/python3.10/dist-packages (from matplotlib>=2.0->calour==2019.5.1) (4.43.1)\n",
            "Requirement already satisfied: kiwisolver>=1.0.1 in /usr/local/lib/python3.10/dist-packages (from matplotlib>=2.0->calour==2019.5.1) (1.4.5)\n",
            "Requirement already satisfied: packaging>=20.0 in /usr/local/lib/python3.10/dist-packages (from matplotlib>=2.0->calour==2019.5.1) (23.2)\n",
            "Requirement already satisfied: pillow>=6.2.0 in /usr/local/lib/python3.10/dist-packages (from matplotlib>=2.0->calour==2019.5.1) (9.4.0)\n",
            "Requirement already satisfied: pyparsing>=2.3.1 in /usr/local/lib/python3.10/dist-packages (from matplotlib>=2.0->calour==2019.5.1) (3.1.1)\n",
            "Requirement already satisfied: python-dateutil>=2.7 in /usr/local/lib/python3.10/dist-packages (from matplotlib>=2.0->calour==2019.5.1) (2.8.2)\n",
            "Requirement already satisfied: joblib>=1.1.1 in /usr/local/lib/python3.10/dist-packages (from scikit-learn>=0.19.1->calour==2019.5.1) (1.3.2)\n",
            "Requirement already satisfied: threadpoolctl>=2.0.0 in /usr/local/lib/python3.10/dist-packages (from scikit-learn>=0.19.1->calour==2019.5.1) (3.2.0)\n",
            "Requirement already satisfied: click in /usr/local/lib/python3.10/dist-packages (from biom-format->calour==2019.5.1) (8.1.7)\n",
            "Requirement already satisfied: h5py in /usr/local/lib/python3.10/dist-packages (from biom-format->calour==2019.5.1) (3.9.0)\n",
            "Requirement already satisfied: pytz>=2020.1 in /usr/local/lib/python3.10/dist-packages (from pandas->calour==2019.5.1) (2023.3.post1)\n",
            "Requirement already satisfied: six in /usr/local/lib/python3.10/dist-packages (from docrep->calour==2019.5.1) (1.16.0)\n",
            "Requirement already satisfied: patsy>=0.5.2 in /usr/local/lib/python3.10/dist-packages (from statsmodels->calour==2019.5.1) (0.5.3)\n",
            "Building wheels for collected packages: docrep\n",
            "  Building wheel for docrep (setup.py) ... \u001b[?25l\u001b[?25hdone\n",
            "  Created wheel for docrep: filename=docrep-0.3.2-py3-none-any.whl size=19877 sha256=701caba8aaf7159e45cec3716c01a1aa2ec3772cf8d743e687d1cae59ab4048d\n",
            "  Stored in directory: /root/.cache/pip/wheels/c3/64/48/03c38d8d906159eaa210b3c548fdb590eb3e2a4a5745ae2172\n",
            "Successfully built docrep\n",
            "Installing collected packages: docrep, biom-format, calour\n",
            "Successfully installed biom-format-2.1.15 calour-2019.5.1 docrep-0.3.2\n"
          ]
        }
      ],
      "source": [
        "pip install calour==2019.5.1"
      ]
    },
    {
      "cell_type": "code",
      "source": [
        "!pip install -e git+https://github.com/amnona/dbbact-calour.git#egg=dbbact-calour"
      ],
      "metadata": {
        "colab": {
          "base_uri": "https://localhost:8080/"
        },
        "id": "H2Eoq2I4-n0x",
        "outputId": "85bd2978-8695-469c-fc91-da5cbc6be6d5"
      },
      "execution_count": null,
      "outputs": [
        {
          "output_type": "stream",
          "name": "stdout",
          "text": [
            "Obtaining dbbact-calour from git+https://github.com/amnona/dbbact-calour.git#egg=dbbact-calour\n",
            "  Cloning https://github.com/amnona/dbbact-calour.git to ./src/dbbact-calour\n",
            "  Running command git clone --filter=blob:none --quiet https://github.com/amnona/dbbact-calour.git /content/src/dbbact-calour\n",
            "  Resolved https://github.com/amnona/dbbact-calour.git to commit 283201acd2d3eba667d7b454ceefba8f3da32a31\n",
            "  Installing build dependencies ... \u001b[?25l\u001b[?25hdone\n",
            "  Checking if build backend supports build_editable ... \u001b[?25l\u001b[?25hdone\n",
            "  Getting requirements to build editable ... \u001b[?25l\u001b[?25hdone\n",
            "  Preparing editable metadata (pyproject.toml) ... \u001b[?25l\u001b[?25hdone\n",
            "Requirement already satisfied: numpy in /usr/local/lib/python3.10/dist-packages (from dbbact-calour) (1.23.5)\n",
            "Requirement already satisfied: scipy in /usr/local/lib/python3.10/dist-packages (from dbbact-calour) (1.11.3)\n",
            "Requirement already satisfied: pandas in /usr/local/lib/python3.10/dist-packages (from dbbact-calour) (1.5.3)\n",
            "Requirement already satisfied: calour in /usr/local/lib/python3.10/dist-packages (from dbbact-calour) (2019.5.1)\n",
            "Requirement already satisfied: matplotlib>=2.0 in /usr/local/lib/python3.10/dist-packages (from calour->dbbact-calour) (3.7.1)\n",
            "Requirement already satisfied: scikit-learn>=0.19.1 in /usr/local/lib/python3.10/dist-packages (from calour->dbbact-calour) (1.2.2)\n",
            "Requirement already satisfied: biom-format in /usr/local/lib/python3.10/dist-packages (from calour->dbbact-calour) (2.1.15)\n",
            "Requirement already satisfied: statsmodels in /usr/local/lib/python3.10/dist-packages (from calour->dbbact-calour) (0.14.0)\n",
            "Requirement already satisfied: docrep in /usr/local/lib/python3.10/dist-packages (from calour->dbbact-calour) (0.3.2)\n",
            "Requirement already satisfied: python-dateutil>=2.8.1 in /usr/local/lib/python3.10/dist-packages (from pandas->dbbact-calour) (2.8.2)\n",
            "Requirement already satisfied: pytz>=2020.1 in /usr/local/lib/python3.10/dist-packages (from pandas->dbbact-calour) (2023.3.post1)\n",
            "Requirement already satisfied: contourpy>=1.0.1 in /usr/local/lib/python3.10/dist-packages (from matplotlib>=2.0->calour->dbbact-calour) (1.1.1)\n",
            "Requirement already satisfied: cycler>=0.10 in /usr/local/lib/python3.10/dist-packages (from matplotlib>=2.0->calour->dbbact-calour) (0.12.1)\n",
            "Requirement already satisfied: fonttools>=4.22.0 in /usr/local/lib/python3.10/dist-packages (from matplotlib>=2.0->calour->dbbact-calour) (4.43.1)\n",
            "Requirement already satisfied: kiwisolver>=1.0.1 in /usr/local/lib/python3.10/dist-packages (from matplotlib>=2.0->calour->dbbact-calour) (1.4.5)\n",
            "Requirement already satisfied: packaging>=20.0 in /usr/local/lib/python3.10/dist-packages (from matplotlib>=2.0->calour->dbbact-calour) (23.2)\n",
            "Requirement already satisfied: pillow>=6.2.0 in /usr/local/lib/python3.10/dist-packages (from matplotlib>=2.0->calour->dbbact-calour) (9.4.0)\n",
            "Requirement already satisfied: pyparsing>=2.3.1 in /usr/local/lib/python3.10/dist-packages (from matplotlib>=2.0->calour->dbbact-calour) (3.1.1)\n",
            "Requirement already satisfied: six>=1.5 in /usr/local/lib/python3.10/dist-packages (from python-dateutil>=2.8.1->pandas->dbbact-calour) (1.16.0)\n",
            "Requirement already satisfied: joblib>=1.1.1 in /usr/local/lib/python3.10/dist-packages (from scikit-learn>=0.19.1->calour->dbbact-calour) (1.3.2)\n",
            "Requirement already satisfied: threadpoolctl>=2.0.0 in /usr/local/lib/python3.10/dist-packages (from scikit-learn>=0.19.1->calour->dbbact-calour) (3.2.0)\n",
            "Requirement already satisfied: click in /usr/local/lib/python3.10/dist-packages (from biom-format->calour->dbbact-calour) (8.1.7)\n",
            "Requirement already satisfied: h5py in /usr/local/lib/python3.10/dist-packages (from biom-format->calour->dbbact-calour) (3.9.0)\n",
            "Requirement already satisfied: patsy>=0.5.2 in /usr/local/lib/python3.10/dist-packages (from statsmodels->calour->dbbact-calour) (0.5.3)\n",
            "Building wheels for collected packages: dbbact-calour\n",
            "  Building editable for dbbact-calour (pyproject.toml) ... \u001b[?25l\u001b[?25hdone\n",
            "  Created wheel for dbbact-calour: filename=dbbact_calour-1.17.3-0.editable-py3-none-any.whl size=15587 sha256=739215e677aff4c8b0ced27e59c1f13c594cd7aea80eff9ba1882d836027fc81\n",
            "  Stored in directory: /tmp/pip-ephem-wheel-cache-mbxfbodx/wheels/88/f0/ca/96aaffd3ceac0aea4d1904eed739b2872b4caf1cc9b788fc93\n",
            "Successfully built dbbact-calour\n",
            "Installing collected packages: dbbact-calour\n",
            "Successfully installed dbbact-calour-1.17.3\n"
          ]
        }
      ]
    },
    {
      "cell_type": "code",
      "source": [],
      "metadata": {
        "id": "WuOpNZ2--qsC"
      },
      "execution_count": null,
      "outputs": []
    }
  ]
}